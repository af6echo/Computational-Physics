{
 "cells": [
  {
   "cell_type": "code",
   "execution_count": 1,
   "metadata": {},
   "outputs": [],
   "source": [
    "import numpy as np\n",
    "import matplotlib.pyplot as plt\n",
    "plt.style.use(\"dark_background\")\n",
    "from scipy.ndimage import measurements"
   ]
  },
  {
   "cell_type": "code",
   "execution_count": 2,
   "metadata": {},
   "outputs": [
    {
     "data": {
      "image/png": "[encoded data removed]",
      "text/plain": [
       "<Figure size 600x600 with 1 Axes>"
      ]
     },
     "metadata": {},
     "output_type": "display_data"
    }
   ],
   "source": [
    "# Determining the lattice size:\n",
    "L = 10\n",
    "# Probability of turning a site on:\n",
    "p = 0.5\n",
    "# The L by L lattice with the sites on with probability p; obivously it is a matrix with boolean elements.\n",
    "L_by_L = np.random.rand(L,L) <= p\n",
    "\n",
    "# Plotting the L by L image matrix with imshow():\n",
    "fig, ax = plt.subplots(figsize=(6,6))\n",
    "ax.clear()\n",
    "ax.imshow(L_by_L, origin=\"lower\");"
   ]
  },
  {
   "cell_type": "code",
   "execution_count": 3,
   "metadata": {},
   "outputs": [],
   "source": [
    "# A scipy method to label the clusters and count the number of clusters in one line!\n",
    "labeled_lattice, num_clusters = measurements.label(L_by_L)"
   ]
  },
  {
   "cell_type": "code",
   "execution_count": 4,
   "metadata": {},
   "outputs": [
    {
     "name": "stdout",
     "output_type": "stream",
     "text": [
      "0\n"
     ]
    }
   ],
   "source": [
    "# Checking the existence of a spanning cluster from left to right.\n",
    "# It shouldn't count 0 (because 0 shows the background color) so I boolean-indexed it.\n",
    "if np.size(np.intersect1d(labeled_lattice[:,0][labeled_lattice[:,0]>0], labeled_lattice[:,-1][labeled_lattice[:,-1]>0])) == 0:\n",
    "    print(0)\n",
    "else:\n",
    "    print(1)"
   ]
  },
  {
   "cell_type": "code",
   "execution_count": 5,
   "metadata": {},
   "outputs": [],
   "source": [
    "def rand_lattice(L: int=20, p: float=0.5):\n",
    "    \"\"\"\n",
    "    It creates a random lattice (matrix of booleans) with size L by L.\n",
    "    The elements are True with probability (p) and False with probability (q=1-p).\n",
    "    \"\"\"\n",
    "\n",
    "\n",
    "    return np.random.rand(L,L) <= p\n",
    "\n",
    "\n",
    "\n",
    "\n",
    "def is_percolating(L_by_L):\n",
    "    \"\"\"\n",
    "    checks the percolation of a lattice\n",
    "    \"\"\"\n",
    "\n",
    "\n",
    "    labeled_lattice, num_clusters = measurements.label(L_by_L)\n",
    "    if np.size(np.intersect1d(labeled_lattice[:,0][labeled_lattice[:,0]>0], labeled_lattice[:,-1][labeled_lattice[:,-1]>0])) == 0:\n",
    "        return 0\n",
    "    else:\n",
    "        return 1"
   ]
  },
  {
   "cell_type": "code",
   "execution_count": 6,
   "metadata": {},
   "outputs": [
    {
     "name": "stdout",
     "output_type": "stream",
     "text": [
      "p = 0.500 percolation: 0\n",
      "p = 0.510 percolation: 0\n",
      "p = 0.520 percolation: 0\n",
      "p = 0.530 percolation: 0\n",
      "p = 0.540 percolation: 0\n",
      "p = 0.550 percolation: 0\n",
      "p = 0.560 percolation: 0\n",
      "p = 0.570 percolation: 0\n",
      "p = 0.580 percolation: 0\n",
      "p = 0.590 percolation: 1\n",
      "p = 0.600 percolation: 0\n",
      "p = 0.610 percolation: 1\n",
      "p = 0.620 percolation: 1\n",
      "p = 0.630 percolation: 1\n",
      "p = 0.640 percolation: 1\n",
      "p = 0.650 percolation: 1\n",
      "p = 0.660 percolation: 1\n",
      "p = 0.670 percolation: 1\n",
      "p = 0.680 percolation: 1\n",
      "p = 0.690 percolation: 1\n",
      "p = 0.700 percolation: 1\n"
     ]
    }
   ],
   "source": [
    "different_probabilities = np.linspace(0.5, 0.7, 21)\n",
    "\n",
    "for p in different_probabilities:\n",
    "    print(f\"p = {p:.3f}\", \"percolation:\", is_percolating(rand_lattice(L=300, p=p)))"
   ]
  }
 ],
 "metadata": {
  "kernelspec": {
   "display_name": "qenv",
   "language": "python",
   "name": "qenv"
  },
  "language_info": {
   "codemirror_mode": {
    "name": "ipython",
    "version": 3
   },
   "file_extension": ".py",
   "mimetype": "text/x-python",
   "name": "python",
   "nbconvert_exporter": "python",
   "pygments_lexer": "ipython3",
   "version": "3.8.10"
  },
  "orig_nbformat": 4
 },
 "nbformat": 4,
 "nbformat_minor": 2
}
