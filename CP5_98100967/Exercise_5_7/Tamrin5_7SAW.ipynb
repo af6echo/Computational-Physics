{
 "cells": [
  {
   "cell_type": "code",
   "execution_count": 1,
   "metadata": {},
   "outputs": [],
   "source": [
    "import numpy as np\n",
    "import matplotlib.pyplot as plt\n",
    "plt.style.use(\"dark_background\")"
   ]
  },
  {
   "cell_type": "code",
   "execution_count": 25,
   "metadata": {},
   "outputs": [],
   "source": [
    "def recursive_SAW(n, network, position):\n",
    "    \"\"\"\n",
    "    n: number of steps\n",
    "\n",
    "    network: a matrix of booleans\n",
    "\n",
    "    position: the current position of the walker on the matrix\n",
    "    \"\"\"\n",
    "\n",
    "\n",
    "    # The terminating condition of the recursive function:\n",
    "    if n==0:\n",
    "        return 1\n",
    "    # The walker is at this position of the matrix.\n",
    "    # The corresponding element of the matrix should turn True as the walker has stepped on this position.\n",
    "    network[position] = True\n",
    "    # The counter of the number of paths the walker can take:\n",
    "    counter = 0\n",
    "    # The neighboring matrix elements of the current position of the walker.\n",
    "    # The four directions that the walker can move are: right, left, down and up.\n",
    "    neighbors = position + np.array([(0,1), (0,-1), (1,0), (-1,0)])\n",
    "    # Check the four neighbors of the current position:\n",
    "    for i in range(4):\n",
    "        # Check if the walker has stepped on the neighbor (True) or not (False):\n",
    "        if not network[(neighbors[i][0], neighbors[i][1])]:\n",
    "            counter += recursive_SAW(n-1, network, neighbors[i])\n",
    "\n",
    "    # Erase the change in the network:\n",
    "    network[position] = False\n",
    "    return counter"
   ]
  },
  {
   "cell_type": "code",
   "execution_count": 26,
   "metadata": {},
   "outputs": [
    {
     "data": {
      "text/plain": [
       "1"
      ]
     },
     "execution_count": 26,
     "metadata": {},
     "output_type": "execute_result"
    }
   ],
   "source": [
    "n = 0\n",
    "network = np.zeros((2*n+1,2*n+1), dtype=bool)\n",
    "position = (n,n)\n",
    "recursive_SAW(n, network, position)"
   ]
  },
  {
   "cell_type": "code",
   "execution_count": 27,
   "metadata": {},
   "outputs": [
    {
     "data": {
      "text/plain": [
       "4"
      ]
     },
     "execution_count": 27,
     "metadata": {},
     "output_type": "execute_result"
    }
   ],
   "source": [
    "n = 1\n",
    "network = np.zeros((2*n+1,2*n+1), dtype=bool)\n",
    "position = (n,n)\n",
    "recursive_SAW(n, network, position)"
   ]
  },
  {
   "cell_type": "code",
   "execution_count": 21,
   "metadata": {},
   "outputs": [
    {
     "data": {
      "text/plain": [
       "4"
      ]
     },
     "execution_count": 21,
     "metadata": {},
     "output_type": "execute_result"
    }
   ],
   "source": [
    "n = 2\n",
    "network = np.zeros((2*n+1,2*n+1), dtype=bool)\n",
    "position = (n,n)\n",
    "f(n, network, position)"
   ]
  },
  {
   "cell_type": "code",
   "execution_count": 28,
   "metadata": {},
   "outputs": [
    {
     "data": {
      "text/plain": [
       "6"
      ]
     },
     "execution_count": 28,
     "metadata": {},
     "output_type": "execute_result"
    }
   ],
   "source": [
    "n = 3\n",
    "network = np.zeros((2*n+1,2*n+1), dtype=bool)\n",
    "position = (n,n)\n",
    "recursive_SAW(n, network, position)"
   ]
  },
  {
   "cell_type": "code",
   "execution_count": 29,
   "metadata": {},
   "outputs": [
    {
     "data": {
      "text/plain": [
       "6"
      ]
     },
     "execution_count": 29,
     "metadata": {},
     "output_type": "execute_result"
    }
   ],
   "source": [
    "n = 4\n",
    "network = np.zeros((2*n+1,2*n+1), dtype=bool)\n",
    "position = (n,n)\n",
    "recursive_SAW(n, network, position)"
   ]
  },
  {
   "cell_type": "code",
   "execution_count": 30,
   "metadata": {},
   "outputs": [
    {
     "data": {
      "text/plain": [
       "6"
      ]
     },
     "execution_count": 30,
     "metadata": {},
     "output_type": "execute_result"
    }
   ],
   "source": [
    "n = 5\n",
    "network = np.zeros((2*n+1,2*n+1), dtype=bool)\n",
    "position = (n,n)\n",
    "recursive_SAW(n, network, position)"
   ]
  }
 ],
 "metadata": {
  "kernelspec": {
   "display_name": "qenv",
   "language": "python",
   "name": "python3"
  },
  "language_info": {
   "codemirror_mode": {
    "name": "ipython",
    "version": 3
   },
   "file_extension": ".py",
   "mimetype": "text/x-python",
   "name": "python",
   "nbconvert_exporter": "python",
   "pygments_lexer": "ipython3",
   "version": "3.8.10"
  },
  "orig_nbformat": 4
 },
 "nbformat": 4,
 "nbformat_minor": 2
}
