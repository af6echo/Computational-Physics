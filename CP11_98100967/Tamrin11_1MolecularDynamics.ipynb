{
 "cells": [
  {
   "cell_type": "code",
   "execution_count": null,
   "metadata": {},
   "outputs": [],
   "source": [
    "import numpy as np\n",
    "import matplotlib.pyplot as plt\n",
    "# from scipy.spatial.distance import pdist, squareform\n",
    "from matplotlib import animation\n",
    "import pandas as pd\n",
    "plt.style.use(\"dark_background\")"
   ]
  },
  {
   "cell_type": "code",
   "execution_count": null,
   "metadata": {},
   "outputs": [],
   "source": [
    "\"\"\"\n",
    "All the Constants in this cell.\n",
    "\"\"\"\n",
    "\n",
    "epsilon = 1\n",
    "sigma = 1\n",
    "m = 1  # Mass of Argon atoms\n",
    "sigma12 = pow(sigma,12)\n",
    "sigma6 = pow(sigma,6)\n",
    "h = 0.001  # Integration step, reduced time\n",
    "L = 30  # Size of lattice, reduced length\n",
    "N = 100  # Number of particles\n",
    "r_cutoff = 2.5 # Potential cutoff, reduced length\n",
    "v_max = 5\n",
    "\n",
    "# The velocity distribution can be a Gaussian centered around v_rms\n",
    "# with the maximum velocity coming from the six-sigma rule.\n",
    "# temp_Kelvin = 300\n",
    "# temp_reduced = temp_Kelvin / 120\n",
    "# v_rms = np.sqrt(3 * temp_reduced)  # Root Mean Squared velocity\n",
    "# v_avg = np.sqrt(8 * temp_reduced / np.pi)  # average velocity\n",
    "particles = np.zeros(shape=(6, N))"
   ]
  },
  {
   "cell_type": "code",
   "execution_count": null,
   "metadata": {},
   "outputs": [],
   "source": [
    "def initialize_system(particles, seed=1327):\n",
    "    np.random.seed(seed)\n",
    "    x = np.repeat(np.linspace(r_cutoff, (0.5)*L - r_cutoff, int(np.sqrt(N))), int(np.sqrt(N)))\n",
    "    y = np.tile(np.linspace(r_cutoff, L-r_cutoff, int(np.sqrt(N))), reps=int(np.sqrt(N)))\n",
    "    particles[0:2] = np.array([x, y])\n",
    "    # Random direction of velocities come from these random angles:\n",
    "    theta0 = np.random.random(size=N)\n",
    "    # For uniform distribution of velocities:\n",
    "    velocities = np.random.uniform(low=-v_max, high=v_max, size=N)\n",
    "    # For Gaussian distribution of velocities:\n",
    "    # velocities = np.random.normal(loc=v_avg, scale=v_rms, size=N)\n",
    "    particles[2] = velocities * np.cos(theta0)  # vx (velocity in the x direction)\n",
    "    particles[3] = velocities * np.sin(theta0)  # vy (velocity in the y direction)\n",
    "    # Velocity of the center of mass has to be zero:\n",
    "    particles[2] = particles[2] - np.average(particles[2])\n",
    "    particles[3] = particles[3] - np.average(particles[3])\n",
    "\n",
    "def relative_distances(particles):\n",
    "    # Apllies Minimum Image Convention and computes the pairwise distances between particles.\n",
    "    positions = np.transpose(particles[0:2])\n",
    "    # A numpy broadcasting trick to avoid using for loops.\n",
    "    # (i,j,k) shows the difference between\n",
    "    # the k'th coordinate of particle i and\n",
    "    # the k'th coordinate of particle j.\n",
    "    r_ij = positions[:, np.newaxis, :] - positions[np.newaxis, :, :]\n",
    "    # I don't fully understand the next line but a similar line was there in all the\n",
    "    # examples I studied on the internet. It is needed for the function to work properly.\n",
    "    r_ij = r_ij - np.round(r_ij / L) * L\n",
    "    # Basically ternary condition for applying MIC:\n",
    "    r_ij = np.where((np.abs(r_ij) > 0.5 * L), (r_ij - np.sign(r_ij) * L), r_ij)\n",
    "    # The matrix of distances:\n",
    "    r_ij = np.sqrt(np.sum(np.square(r_ij), axis=2))\n",
    "    # Apply cut-off and sigma with two ternary conditions:\n",
    "    r_ij = np.where(r_ij<r_cutoff, r_ij, np.nan)\n",
    "    r_ij = np.where(r_ij>sigma, r_ij, np.nan)\n",
    "    return r_ij\n",
    "\n",
    "\n",
    "def acc(particles, r_ij):\n",
    "    # Inverse of relative distances to the power of 6:\n",
    "    ir6_ij = 1 / r_ij**6\n",
    "    # Inverse of relative distances to the power of 12:\n",
    "    ir12_ij = ir6_ij * ir6_ij\n",
    "    acc_matrix = -24 * epsilon * (2 * sigma12 * ir12_ij - sigma6 * ir6_ij) / r_ij\n",
    "    # Calculate dx and dy using a numpy trick:\n",
    "    dx = particles[0, :] - particles[0, :, np.newaxis]\n",
    "    dx = dx - np.round(dx / L) * L\n",
    "    dy = particles[1, :] - particles[1, :, np.newaxis]\n",
    "    dy = dy - np.round(dy / L) * L\n",
    "    # Calculate the angle between particles:\n",
    "    theta = np.arctan2(dy, dx)\n",
    "    # Multiply acc_matrix with the theta to get the component of forces in the directions x and y:\n",
    "    particles[4] = np.nansum(acc_matrix * np.cos(theta), axis=1)\n",
    "    particles[5] = np.nansum(acc_matrix * np.sin(theta), axis=1)\n",
    "\n",
    "\n",
    "def velocity_verlet(particles):\n",
    "    global v_max\n",
    "    # PBC Check:\n",
    "    particles[0:2] = (particles[0:2]+L) % L\n",
    "    # Velcity update part 1:\n",
    "    particles[2:4] = particles[2:4] + 0.5 * particles[4:6] * h\n",
    "    # Positions update:\n",
    "    particles[0:2] = particles[0:2] + particles[2:4] * h\n",
    "    # Acceleration update:\n",
    "    r_ij = relative_distances(particles)\n",
    "    acc(particles, r_ij)\n",
    "    # Velcity update part 2:\n",
    "    particles[2:4] = particles[2:4] + 0.5 * particles[4:6] * h\n",
    "    # Scale velocities to avoid numerical instability:\n",
    "    v_magnitude = np.linalg.norm(particles[2:4], axis=0)\n",
    "    v_scale = np.minimum(v_max / v_magnitude, 1.0)\n",
    "    particles[2:4] = particles[2:4] * v_scale\n",
    "    # Velocity of the center of mass has to be zero:\n",
    "    particles[2] = particles[2] - np.average(particles[2])\n",
    "    particles[3] = particles[3] - np.average(particles[3])\n",
    "\n",
    "\n",
    "def kinetic_energy(particles):\n",
    "    return 0.5 * m * np.sum(particles[2:4]**2, axis=0)\n",
    "\n",
    "\n",
    "def potential_energy(particles):\n",
    "    r_ij = relative_distances(particles)\n",
    "    # Inverse of relative distances to the power of 6:\n",
    "    ir6_ij = 1 / r_ij**6\n",
    "    # Inverse of relative distances to the power of 12:\n",
    "    ir12_ij = ir6_ij * ir6_ij\n",
    "    return 4 * epsilon * (sigma12 * ir12_ij - sigma6 * ir6_ij)\n",
    "\n",
    "\n",
    "def press(particles):\n",
    "    r_ij = relative_distances(particles)\n",
    "    # Inverse of relative distances to the power of 6:\n",
    "    ir6_ij = 1 / r_ij**6\n",
    "    # Inverse of relative distances to the power of 12:\n",
    "    ir12_ij = ir6_ij * ir6_ij\n",
    "    # Calculate pressure using Virial's theorem:\n",
    "    temp_reduced = np.mean(kinetic_energy(particles))\n",
    "    PV = (N * temp_reduced) - 0.25/N * np.nansum(-24 * epsilon * (2 * sigma12 * ir12_ij - sigma6 * ir6_ij))\n",
    "    return PV / L**2\n",
    "\n",
    "\n",
    "def auto_correlation(xs, num_steps):\n",
    "    C_j = np.zeros(num_steps)\n",
    "    for j in range(1, num_steps):\n",
    "        # Perason Correlation Coefficient using numpy:\n",
    "        C_j[j] = np.corrcoef(xs[:-j], xs[j:])[0, 1]\n",
    "    return C_j\n",
    "\n",
    "\n",
    "def velocity_auto_correlation(particles, num_steps):\n",
    "    # This matrix will contian the velocity of all particles through time.\n",
    "    # Each column contians the evolution of the velocity of each particle:\n",
    "    vs_evolution = np.zeros(shape=(num_steps, N))\n",
    "    for i in range(num_steps):\n",
    "        velocity_verlet(particles)\n",
    "        vs_evolution[i] = particles[2]**2 + particles[3]**2\n",
    "    # Each row contains the C(j) of each particle:\n",
    "    C_js = np.zeros((N, num_steps))\n",
    "    for i in range(N):\n",
    "        C_js[i]= auto_correlation(vs_evolution[:, i].transpose(), num_steps)\n",
    "    # Correlation length, all of the particles considered:\n",
    "    C_j = np.mean(C_js, axis=0)\n",
    "    Xi = np.argwhere(C_j<= np.exp(-1))[1][0]\n",
    "    return Xi, C_j\n",
    "\n",
    "\n",
    "def trajectory(particles, num_iter, num_snapshots):\n",
    "    # Contains all data in 3D:\n",
    "    traj = np.zeros(shape=(6, N, num_snapshots+1))\n",
    "    # The first \"sheet\" is the initialization:\n",
    "    traj[:,:,0] = particles\n",
    "    for i in range(num_iter):\n",
    "        velocity_verlet(particles)\n",
    "        if (i+1) % (num_iter//num_snapshots) == 0:\n",
    "            traj[:,:,(i+1)//(num_iter//num_snapshots)] = particles\n",
    "    return traj\n",
    "\n",
    "\n",
    "def take_snapshots(particles, num_iter, num_snapshots):\n",
    "    ratio_left = np.zeros(num_snapshots)\n",
    "    kin_energy = np.zeros(num_snapshots)\n",
    "    pot_energy = np.zeros(num_snapshots)\n",
    "    temperature = np.zeros(num_snapshots)\n",
    "    pressure = np.zeros(num_snapshots)\n",
    "    for i in range(num_iter):\n",
    "        velocity_verlet(particles)\n",
    "        if (i+1) % (num_iter//num_snapshots) == 0:\n",
    "            kin_energy[i//(num_iter//num_snapshots)] = np.sum(kinetic_energy(particles))\n",
    "            pot_energy[i//(num_iter//num_snapshots)] = np.nansum(potential_energy(particles))\n",
    "            temperature[i//(num_iter//num_snapshots)] = np.mean(kinetic_energy(particles))\n",
    "            pressure[i//(num_iter//num_snapshots)] = press(particles)\n",
    "            ratio_left[i//(num_iter//num_snapshots)] = particles[0][particles[0] < L/2].size / N\n",
    "    return ratio_left, kin_energy, pot_energy, temperature, pressure"
   ]
  },
  {
   "attachments": {},
   "cell_type": "markdown",
   "metadata": {},
   "source": [
    "$\\Large Trajectory$"
   ]
  },
  {
   "cell_type": "code",
   "execution_count": null,
   "metadata": {},
   "outputs": [],
   "source": [
    "# Initialize system and then run 10_000 velocity-verlet steps and store all data in the traj 3D matrix:\n",
    "initialize_system(particles)\n",
    "traj = trajectory(particles, num_iter=10000, num_snapshots=1000)"
   ]
  },
  {
   "cell_type": "code",
   "execution_count": null,
   "metadata": {},
   "outputs": [],
   "source": [
    "# Write the x and y components of postitions, velocities and accelerations in seperate csv files:\n",
    "pd.DataFrame(traj[0,:,:].transpose()).to_csv(\"trajectory_x.csv\")\n",
    "pd.DataFrame(traj[1,:,:].transpose()).to_csv(\"trajectory_y.csv\")\n",
    "pd.DataFrame(traj[2,:,:].transpose()).to_csv(\"trajectory_vx.csv\")\n",
    "pd.DataFrame(traj[3,:,:].transpose()).to_csv(\"trajectory_vy.csv\")\n",
    "pd.DataFrame(traj[4,:,:].transpose()).to_csv(\"trajectory_ax.csv\")\n",
    "pd.DataFrame(traj[5,:,:].transpose()).to_csv(\"trajectory_ay.csv\")"
   ]
  },
  {
   "cell_type": "code",
   "execution_count": null,
   "metadata": {},
   "outputs": [],
   "source": [
    "# num_iter = 1000 takes 2 seconds\n",
    "initialize_system(particles, seed=1327)\n",
    "num_iter = 100_000\n",
    "num_snapshots = 10_000\n",
    "snapshots_ratio_left,\\\n",
    "snapshots_kinetic_energy,\\\n",
    "snapshots_potential_energy,\\\n",
    "snapshots_temperature,\\\n",
    "snapshots_pressure = take_snapshots(particles, num_iter, num_snapshots)"
   ]
  },
  {
   "attachments": {},
   "cell_type": "markdown",
   "metadata": {},
   "source": [
    "$\\Large Fraction \\ of \\ Particles \\ in \\ the \\ Left \\ Half \\ of \\ the \\ Container$"
   ]
  },
  {
   "cell_type": "code",
   "execution_count": null,
   "metadata": {},
   "outputs": [],
   "source": [
    "fig, ax = plt.subplots(figsize=(12,6))\n",
    "ax.plot(np.linspace(0, num_iter*h, num_snapshots), snapshots_ratio_left,\n",
    "        color=\"m\", lw=2)\n",
    "\n",
    "ax.set_title(\"Fraction of Particles on the Left Half of the Container\")\n",
    "ax.set_xlabel(f\"Reduced Time (Number of Velocity-Verlet Iterations: {num_iter})\")\n",
    "ax.set_ylabel(\"$N_{LEFT}\\quad/\\quadN_{TOTAL}$\")\n",
    "ax.set_ylim((-0.1,1.1))\n",
    "ax.set_yticks(np.arange(0, 1.1, 0.1))\n",
    "ax.hlines(y=0.5, xmin=0, xmax=num_iter*h, colors=\"orange\", linestyles=\"--\");"
   ]
  },
  {
   "cell_type": "code",
   "execution_count": null,
   "metadata": {},
   "outputs": [],
   "source": [
    "# fig.savefig(\"RatioLeft.jpg\")"
   ]
  },
  {
   "attachments": {},
   "cell_type": "markdown",
   "metadata": {},
   "source": [
    "$\\Large Conservation \\ of \\ Energy$"
   ]
  },
  {
   "cell_type": "code",
   "execution_count": null,
   "metadata": {},
   "outputs": [],
   "source": [
    "fig, ax = plt.subplots(figsize=(12,6))\n",
    "ax.plot(np.linspace(0, num_iter*h, num_snapshots), snapshots_kinetic_energy,\n",
    "        color=\"aqua\", lw=1, label=\"Kinetic Energy\")\n",
    "ax.plot(np.linspace(0, num_iter*h, num_snapshots), snapshots_potential_energy,\n",
    "        color=\"orange\", lw=1, label=\"Potential Energy\")\n",
    "ax.plot(np.linspace(0, num_iter*h, num_snapshots), snapshots_kinetic_energy+snapshots_potential_energy,\n",
    "        color=\"m\", lw=1, label=\"Total Energy\")\n",
    "ax.set_title(\"Analysing Conservation of Energy\")\n",
    "ax.set_xlabel(f\"Reduced Time (Number of Velocity-Verlet Iterations: {num_iter})\")\n",
    "ax.set_ylabel(\"Reduced Energy\")\n",
    "ax.legend();"
   ]
  },
  {
   "cell_type": "code",
   "execution_count": null,
   "metadata": {},
   "outputs": [],
   "source": [
    "# fig.savefig(\"EnergyConservation.jpg\")"
   ]
  },
  {
   "attachments": {},
   "cell_type": "markdown",
   "metadata": {},
   "source": [
    "$\\Large Auto-Correlation$"
   ]
  },
  {
   "cell_type": "code",
   "execution_count": null,
   "metadata": {},
   "outputs": [],
   "source": [
    "# This cell takes 1.5 minutes to execute.\n",
    "initialize_system(particles)\n",
    "num_steps = 10_000\n",
    "Xi, C_j = velocity_auto_correlation(particles, num_steps=num_steps)"
   ]
  },
  {
   "cell_type": "code",
   "execution_count": null,
   "metadata": {},
   "outputs": [],
   "source": [
    "fig, ax = plt.subplots(figsize=(12,6))\n",
    "ax.plot(np.linspace(0, 10_000*h, num_steps-1), C_j[1:],\n",
    "        color=\"aqua\", lw=3, label=\"Auto-Correlation\")\n",
    "ax.set_title(f\"Auto-Correlation of Velocities; $\\\\xi = 1.095$\")\n",
    "ax.set_xlabel(f\"Reduced Time (Number of Velocity-Verlet Iterations: {num_steps})\")\n",
    "ax.set_ylabel(\"$C(j)$\")\n",
    "ax.hlines(y=np.exp(-1), xmin=0, xmax=10_000*h, colors=\"orange\", linestyles=\"--\", label=\"$e^{-1}$\")\n",
    "ax.vlines(x=1.095, ymin=0, ymax=1, linestyles=\"--\", label=\"$\\\\xi$\")\n",
    "ax.set_xticks([0, 2, 4, 6, 8, 10, 1.095])\n",
    "ax.legend();"
   ]
  },
  {
   "cell_type": "code",
   "execution_count": null,
   "metadata": {},
   "outputs": [],
   "source": [
    "# fig.savefig(\"Autocorrelation.jpg\")"
   ]
  },
  {
   "attachments": {},
   "cell_type": "markdown",
   "metadata": {},
   "source": [
    "$\\Large Temperature \\ vs. \\ Time$"
   ]
  },
  {
   "cell_type": "code",
   "execution_count": null,
   "metadata": {},
   "outputs": [],
   "source": [
    "fig, ax = plt.subplots(figsize=(12,6))\n",
    "ax.plot(np.linspace(0, num_iter*h, num_snapshots), snapshots_temperature,\n",
    "        color=\"aqua\", lw=1)\n",
    "temperature = np.nanmean(snapshots_temperature[2000:])\n",
    "std = np.std(snapshots_temperature[2000:])\n",
    "ax.set_title(f\"Temperature vs. Time\\n$T*={temperature:.3f} \\pm {std:.3f}$\")\n",
    "ax.set_xlabel(f\"Reduced Time (Number of Velocity-Verlet Iterations: {num_iter})\")\n",
    "ax.set_ylabel(\"Reduced Termperature\");"
   ]
  },
  {
   "cell_type": "code",
   "execution_count": null,
   "metadata": {},
   "outputs": [],
   "source": [
    "# fig.savefig(\"Temperature_vs_Time.jpg\")"
   ]
  },
  {
   "attachments": {},
   "cell_type": "markdown",
   "metadata": {},
   "source": [
    "$\\Large Pressure \\ vs. \\ Time$"
   ]
  },
  {
   "cell_type": "code",
   "execution_count": null,
   "metadata": {},
   "outputs": [],
   "source": [
    "fig, ax = plt.subplots(figsize=(12,6))\n",
    "ax.plot(np.linspace(0, num_iter*h, num_snapshots), snapshots_pressure,\n",
    "        color=\"aqua\", lw=1)\n",
    "pressure = np.nanmean(snapshots_pressure[2000:])\n",
    "std = np.std(snapshots_pressure[2000:])\n",
    "ax.set_title(f\"Pressure vs. Time\\n$P*={pressure:.4f} \\pm {std:.4f}$\")\n",
    "ax.set_xlabel(f\"Reduced Time (Number of Velocity-Verlet Iterations: {num_iter})\")\n",
    "ax.set_ylabel(\"Reduced Pressure\");"
   ]
  },
  {
   "cell_type": "code",
   "execution_count": null,
   "metadata": {},
   "outputs": [],
   "source": [
    "# fig.savefig(\"Pressure_vs_Time.jpg\")"
   ]
  },
  {
   "attachments": {},
   "cell_type": "markdown",
   "metadata": {},
   "source": [
    "$\\Large Van \\ der \\ Waals \\ Constants$"
   ]
  },
  {
   "cell_type": "code",
   "execution_count": null,
   "metadata": {},
   "outputs": [],
   "source": [
    "# Takes 6 minutes\n",
    "# Reduced values for v_max:\n",
    "v_maxs = np.arange(5, 1, -0.1)\n",
    "# v_maxs = [5, 4, 3, 1]\n",
    "# A matrix to contain temperature in the first row and pressure in the second row for each value of v_max:\n",
    "T_and_P = np.zeros(shape=(2, len(v_maxs)))\n",
    "v_max = v_maxs[0]\n",
    "initialize_system(particles)\n",
    "for i in range(len(v_maxs)):\n",
    "    v_max = v_maxs[i]\n",
    "    P = 0\n",
    "    T = 0\n",
    "    if i==0:\n",
    "        for j in range(2000):\n",
    "            velocity_verlet(particles)\n",
    "    for j in range(3000):\n",
    "        velocity_verlet(particles)\n",
    "        P += press(particles)\n",
    "        T += np.mean(kinetic_energy(particles))\n",
    "    T_and_P[0, i] = T / 3000\n",
    "    T_and_P[1, i] = P / 3000\n"
   ]
  },
  {
   "cell_type": "code",
   "execution_count": null,
   "metadata": {},
   "outputs": [],
   "source": [
    "coefs = np.polynomial.polynomial.polyfit(T_and_P[0], T_and_P[1], deg=1)\n",
    "ffit = np.polynomial.polynomial.polyval(T_and_P[0], coefs)\n",
    "\n",
    "fig, ax = plt.subplots()\n",
    "\n",
    "\n",
    "ax.scatter(T_and_P[0], T_and_P[1], color=\"orange\", label=\"Data\", zorder=1)\n",
    "ax.plot(T_and_P[0], ffit, \"m--\", label=f\"Fit: y = {coefs[1]:.6f}x + ({coefs[0]:.6f})\", zorder=2)\n",
    "ax.set_title(\"Pressure vs. Temperature\")\n",
    "ax.set_xlabel(\"Reduced Temperature\", fontsize=12)\n",
    "ax.set_ylabel(\"Reduced Pressure\", fontsize=12)\n",
    "ax.legend();"
   ]
  },
  {
   "cell_type": "code",
   "execution_count": null,
   "metadata": {},
   "outputs": [],
   "source": [
    "# fig.savefig(\"Pressure_vs_Temperature.jpg\")"
   ]
  },
  {
   "cell_type": "code",
   "execution_count": null,
   "metadata": {},
   "outputs": [],
   "source": [
    "\"\"\"\n",
    "Turning to SI units:\n",
    "\"\"\"\n",
    "k_B = 1.38 * 10**-23\n",
    "N_A = 6.022 * 10**23\n",
    "R = N_A * k_B\n",
    "epsilon_SI = 120 * k_B  # From Wikipedia\n",
    "sigma_SI = 0.34 * 10**-9  # From Wikipedia\n",
    "V_molar = 22.4 * 10**-3  # From Wikipedia\n",
    "Ts_SI = T_and_P[0] * epsilon_SI / k_B  # Temperatures in SI\n",
    "Ps_SI = T_and_P[1] * epsilon_SI / sigma_SI**3  # Pressures in SI\n",
    "coefs_SI = np.polynomial.polynomial.polyfit(Ts_SI, Ps_SI, deg=1)\n",
    "\n",
    "a = V_molar**2 * -coefs_SI[0]\n",
    "b = V_molar - (R / coefs_SI[1])\n",
    "a_wikipedia = 1.355\n",
    "b_wikipedia = 0.03201\n",
    "\n",
    "print(f\"a = {a:.3f}    ERORR = {np.abs((a-a_wikipedia)/a_wikipedia*100):.3f}%\")\n",
    "print(f\"b = {b:.3f}    ERORR = {np.abs((b-b_wikipedia)/b_wikipedia*100):.3f}%\")"
   ]
  },
  {
   "attachments": {},
   "cell_type": "markdown",
   "metadata": {},
   "source": [
    "$\\Large ANIMATION$"
   ]
  },
  {
   "attachments": {},
   "cell_type": "markdown",
   "metadata": {},
   "source": [
    "$\\Large Gas$"
   ]
  },
  {
   "cell_type": "code",
   "execution_count": null,
   "metadata": {},
   "outputs": [],
   "source": [
    "# Takes 1 minute.\n",
    "plt.rcParams[\"animation.html\"] = \"jshtml\"\n",
    "\n",
    "v_max = 5\n",
    "h = 0.001\n",
    "# Initiating the plot:\n",
    "fig, ax = plt.subplots(figsize=(6,6))\n",
    "ax.set_xlim((-1, L+1))\n",
    "ax.set_ylim((-1, L+1))\n",
    "\n",
    "\n",
    "# Create an empty point object with no data.\n",
    "# It will be updated during each frame of the animation.\n",
    "(point,) = ax.plot([], [], \"o\", color=\"aqua\", ms=5)\n",
    "\n",
    "# initialization function: plot the background of each frame.\n",
    "# There was a similar function in all the example codes I studied; must be the standard way!\n",
    "def init():\n",
    "    point.set_data([], [])\n",
    "    return point,\n",
    "\n",
    "\n",
    "# The animation function. This is called sequentially.\n",
    "def animate(i):\n",
    "    # Adjusting for the first frame:\n",
    "    if i==0:\n",
    "        initialize_system(particles, seed=13270)\n",
    "        ax.set_title(f\"Temperature = {np.mean(kinetic_energy(particles))*120:.2f} K\\nt* = {0}\")\n",
    "        point.set_data(particles[0], particles[1])\n",
    "        return point,\n",
    "    i = i-1\n",
    "    # Take 100 Velocity-Verlet steps and then set a frame:\n",
    "    for _ in range(100):\n",
    "        velocity_verlet(particles)\n",
    "    ax.set_title(f\"Temperature = {np.mean(kinetic_energy(particles))*120:.2f} K\\nt* = {100*(i+1)*h:.1f}\")\n",
    "    point.set_data(particles[0], particles[1])  # The standard way to update x and y.\n",
    "    return point,\n",
    "\n",
    "\n",
    "# Finally moving on to the animator function.\n",
    "# frames parameter determines the number of particles that are depositted in each frame.\n",
    "# If we add one single particle in each frame, a lot of time and a lot of memory will be used.\n",
    "# blit=True means only re-draw the parts that have changed; this helps increase the speed of the program.\n",
    "anim = animation.FuncAnimation(fig, animate, init_func=init, frames=300, blit=True)\n",
    "plt.close(\"all\")\n",
    "anim"
   ]
  },
  {
   "cell_type": "code",
   "execution_count": null,
   "metadata": {},
   "outputs": [],
   "source": [
    "# Saving the animation in mp4:\n",
    "# Takes 1 minute.\n",
    "dpi = 300\n",
    "writer = animation.writers[\"ffmpeg\"](fps=30)\n",
    "anim.save(\"GasPhase_vmax5.mp4\",writer=writer,dpi=dpi)"
   ]
  },
  {
   "attachments": {},
   "cell_type": "markdown",
   "metadata": {},
   "source": [
    "$\\Large Liquid$"
   ]
  },
  {
   "cell_type": "code",
   "execution_count": null,
   "metadata": {},
   "outputs": [],
   "source": [
    "plt.rcParams[\"animation.html\"] = \"jshtml\"\n",
    "\n",
    "v_max = 2\n",
    "h = 0.001\n",
    "# Initiating the plot:\n",
    "fig, ax = plt.subplots(figsize=(6,6))\n",
    "ax.set_xlim((-1, L+1))\n",
    "ax.set_ylim((-1, L+1))\n",
    "\n",
    "\n",
    "# Create an empty point object with no data.\n",
    "# It will be updated during each frame of the animation.\n",
    "(point,) = ax.plot([], [], \"o\", color=\"aqua\", ms=5)\n",
    "\n",
    "# initialization function: plot the background of each frame.\n",
    "# There was a similar function in all the example codes I studied; must be the standard way!\n",
    "def init():\n",
    "    point.set_data([], [])\n",
    "    return point,\n",
    "\n",
    "\n",
    "# The animation function. This is called sequentially.\n",
    "def animate(i):\n",
    "    # Adjusting for the first frame:\n",
    "    if i==0:\n",
    "        initialize_system(particles, seed=13270)\n",
    "        ax.set_title(f\"Temperature = {np.mean(kinetic_energy(particles))*120:.2f} K\\nt* = {0}\")\n",
    "        point.set_data(particles[0], particles[1])\n",
    "        return point,\n",
    "    i = i-1\n",
    "    # Take 100 Velocity-Verlet steps and then set a frame:\n",
    "    for _ in range(100):\n",
    "        velocity_verlet(particles)\n",
    "    ax.set_title(f\"Temperature = {np.mean(kinetic_energy(particles))*120:.2f} K\\nt* = {100*(i+1)*h:.1f}\")\n",
    "    point.set_data(particles[0], particles[1])  # The standard way to update x and y.\n",
    "    return point,\n",
    "\n",
    "\n",
    "# Finally moving on to the animator function.\n",
    "# frames parameter determines the number of particles that are depositted in each frame.\n",
    "# If we add one single particle in each frame, a lot of time and a lot of memory will be used.\n",
    "# blit=True means only re-draw the parts that have changed; this helps increase the speed of the program.\n",
    "anim_liquid = animation.FuncAnimation(fig, animate, init_func=init, frames=300, blit=True)\n",
    "plt.close(\"all\")\n",
    "anim_liquid"
   ]
  },
  {
   "cell_type": "code",
   "execution_count": null,
   "metadata": {},
   "outputs": [],
   "source": [
    "# Saving the animation in mp4:\n",
    "# Takes 1 minute.\n",
    "dpi = 300\n",
    "writer = animation.writers[\"ffmpeg\"](fps=30)\n",
    "anim_liquid.save(\"LquidPhase_vmax2.mp4\",writer=writer,dpi=dpi)"
   ]
  },
  {
   "attachments": {},
   "cell_type": "markdown",
   "metadata": {},
   "source": [
    "$\\Large Solid$"
   ]
  },
  {
   "cell_type": "code",
   "execution_count": null,
   "metadata": {},
   "outputs": [],
   "source": [
    "plt.rcParams[\"animation.html\"] = \"jshtml\"\n",
    "\n",
    "v_max = 0.1\n",
    "h = 0.001\n",
    "# Initiating the plot:\n",
    "fig, ax = plt.subplots(figsize=(6,6))\n",
    "ax.set_xlim((-1, L+1))\n",
    "ax.set_ylim((-1, L+1))\n",
    "\n",
    "\n",
    "# Create an empty point object with no data.\n",
    "# It will be updated during each frame of the animation.\n",
    "(point,) = ax.plot([], [], \"o\", color=\"aqua\", ms=5)\n",
    "\n",
    "# initialization function: plot the background of each frame.\n",
    "# There was a similar function in all the example codes I studied; must be the standard way!\n",
    "def init():\n",
    "    point.set_data([], [])\n",
    "    return point,\n",
    "\n",
    "\n",
    "# The animation function. This is called sequentially.\n",
    "def animate(i):\n",
    "    # Adjusting for the first frame:\n",
    "    if i==0:\n",
    "        initialize_system(particles, seed=13270)\n",
    "        ax.set_title(f\"Temperature = {np.mean(kinetic_energy(particles))*120:.2f} K\\nt* = {0}\")\n",
    "        point.set_data(particles[0], particles[1])\n",
    "        return point,\n",
    "    i = i-1\n",
    "    # Take 100 Velocity-Verlet steps and then set a frame:\n",
    "    for _ in range(100):\n",
    "        velocity_verlet(particles)\n",
    "    ax.set_title(f\"Temperature = {np.mean(kinetic_energy(particles))*120:.2f} K\\nt* = {100*(i+1)*h:.1f}\")\n",
    "    point.set_data(particles[0], particles[1])  # The standard way to update x and y.\n",
    "    return point,\n",
    "\n",
    "\n",
    "# Finally moving on to the animator function.\n",
    "# frames parameter determines the number of particles that are depositted in each frame.\n",
    "# If we add one single particle in each frame, a lot of time and a lot of memory will be used.\n",
    "# blit=True means only re-draw the parts that have changed; this helps increase the speed of the program.\n",
    "anim_solid = animation.FuncAnimation(fig, animate, init_func=init, frames=300, blit=True)\n",
    "plt.close(\"all\")\n",
    "anim_solid"
   ]
  },
  {
   "cell_type": "code",
   "execution_count": null,
   "metadata": {},
   "outputs": [],
   "source": [
    "# Saving the animation in mp4:\n",
    "# Takes 1 minute.\n",
    "dpi = 300\n",
    "writer = animation.writers[\"ffmpeg\"](fps=30)\n",
    "anim_solid.save(\"SolidPhase_vmax01.mp4\",writer=writer,dpi=dpi)"
   ]
  },
  {
   "attachments": {},
   "cell_type": "markdown",
   "metadata": {},
   "source": [
    "$\\Large Phase \\ Transition$"
   ]
  },
  {
   "cell_type": "code",
   "execution_count": null,
   "metadata": {},
   "outputs": [],
   "source": [
    "v_max = 4\n",
    "initialize_system(particles, seed=13270)\n",
    "for _ in range(15000):\n",
    "    velocity_verlet(particles)"
   ]
  },
  {
   "cell_type": "code",
   "execution_count": null,
   "metadata": {},
   "outputs": [],
   "source": [
    "# v_maxs = [3, 2.5, 2, 1.5, 1.1, 1, 0.5, 0.2, 0.1]\n",
    "        #   1.3, 1.2, 1.1, 1. , 0.9, 0.8, 0.7, 0.6, 0.5, 0.4, 0.3, 0.2, 0.1, 0.09, 0.05]\n",
    "v_maxs = np.arange(2, 0, -0.05)\n",
    "# v_maxs = [2, 1, 0.1]\n",
    "plt.rcParams[\"animation.html\"] = \"jshtml\"\n",
    "\n",
    "v_max = 4\n",
    "h = 0.001\n",
    "# Initiating the plot:\n",
    "fig, ax = plt.subplots(figsize=(6,6))\n",
    "ax.set_xlim((-1, L+1))\n",
    "ax.set_ylim((-1, L+1))\n",
    "\n",
    "\n",
    "# Create an empty point object with no data.\n",
    "# It will be updated during each frame of the animation.\n",
    "(point,) = ax.plot([], [], \"o\", color=\"aqua\", ms=5)\n",
    "\n",
    "# initialization function: plot the background of each frame.\n",
    "# There was a similar function in all the example codes I studied; must be the standard way!\n",
    "def init():\n",
    "    point.set_data([], [])\n",
    "    return point,\n",
    "\n",
    "\n",
    "# The animation function. This is called sequentially.\n",
    "def animate(i):\n",
    "    # elif i%10==0:\n",
    "        # global v_max\n",
    "        # v_max = v_maxs[i//10]\n",
    "    global v_max\n",
    "    v_max = v_maxs[i//10]\n",
    "    # Take 100 Velocity-Verlet steps and then set a frame:\n",
    "    for _ in range(200):\n",
    "        velocity_verlet(particles)\n",
    "        v_max\n",
    "    ax.set_title(f\"Temperature = {np.mean(kinetic_energy(particles))*120:.2f} K\\nt* = {100*(i)*h:.1f}\")\n",
    "    point.set_data(particles[0], particles[1])  # The standard way to update x and y.\n",
    "    return point,\n",
    "\n",
    "\n",
    "# Finally moving on to the animator function.\n",
    "# frames parameter determines the number of particles that are depositted in each frame.\n",
    "# If we add one single particle in each frame, a lot of time and a lot of memory will be used.\n",
    "# blit=True means only re-draw the parts that have changed; this helps increase the speed of the program.\n",
    "anim_phase_transition = animation.FuncAnimation(fig, animate, init_func=init, frames=400, blit=True)\n",
    "plt.close(\"all\")\n",
    "anim_phase_transition"
   ]
  },
  {
   "cell_type": "code",
   "execution_count": null,
   "metadata": {},
   "outputs": [],
   "source": [
    "# Saving the animation in mp4:\n",
    "# Takes 1 minute.\n",
    "dpi = 300\n",
    "writer = animation.writers[\"ffmpeg\"](fps=40)\n",
    "anim_phase_transition.save(\"PhaseTransitions.mp4\",writer=writer,dpi=dpi)"
   ]
  }
 ],
 "metadata": {
  "kernelspec": {
   "display_name": "qenv",
   "language": "python",
   "name": "python3"
  },
  "language_info": {
   "codemirror_mode": {
    "name": "ipython",
    "version": 3
   },
   "file_extension": ".py",
   "mimetype": "text/x-python",
   "name": "python",
   "nbconvert_exporter": "python",
   "pygments_lexer": "ipython3",
   "version": "3.8.10"
  },
  "orig_nbformat": 4
 },
 "nbformat": 4,
 "nbformat_minor": 2
}
