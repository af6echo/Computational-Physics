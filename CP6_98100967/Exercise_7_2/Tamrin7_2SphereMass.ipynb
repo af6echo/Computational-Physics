{
 "cells": [
  {
   "cell_type": "code",
   "execution_count": 8,
   "metadata": {},
   "outputs": [],
   "source": [
    "import numpy as np\n",
    "import matplotlib.pyplot as plt\n",
    "import pandas as pd\n",
    "plt.style.use(\"dark_background\")"
   ]
  },
  {
   "cell_type": "code",
   "execution_count": 4,
   "metadata": {},
   "outputs": [],
   "source": [
    "def sphere_MonteCarlo(a, b, n, f, g, G=1):\n",
    "    xs = (b-a) * np.random.rand(n) + a\n",
    "    fs = f(xs)\n",
    "    gs = g(xs)\n",
    "    # Integral answer:\n",
    "    I = G * np.mean(fs / gs)\n",
    "    # Statistical error:\n",
    "    delta = np.sqrt((np.mean(fs**2) - (np.mean(fs))**2) / n)\n",
    "    return I, delta"
   ]
  },
  {
   "cell_type": "code",
   "execution_count": 5,
   "metadata": {},
   "outputs": [
    {
     "data": {
      "text/plain": [
       "-0.06791556460226403"
      ]
     },
     "execution_count": 5,
     "metadata": {},
     "output_type": "execute_result"
    }
   ],
   "source": [
    "def rho(z, rho_0=1, R=1):\n",
    "    return (1/4) * (rho_0/R) * z + (3/4) * (rho_0)\n",
    "\n",
    "\n",
    "def f(z, R=1):\n",
    "    return z * np.pi * (R**2 - z**2)\n",
    "\n",
    "\n",
    "def h(z, R=1):\n",
    "    return np.pi * (R**2 - z**2)\n",
    "\n",
    "\n",
    "# For R=1 and Rho_0=1, mass is pi:\n",
    "M = np.pi\n",
    "\n",
    "sphere_MonteCarlo(-1, 1, 1000000, f=f, g=rho, G=M)[0] / sphere_MonteCarlo(-1, 1, 1000000, f=h, g=rho, G=M)[0]"
   ]
  },
  {
   "cell_type": "code",
   "execution_count": 7,
   "metadata": {},
   "outputs": [],
   "source": [
    "\"\"\"\n",
    "Outputting a table of values:\n",
    "\"\"\"\n",
    "\n",
    "\n",
    "# This cell takes 150 seconds to execute.\n",
    "# We will run the function sphere_MonteCarlo for different values of n:\n",
    "ns = [100, 200, 500, 800, 1000, 10_000, 100_000, 1_000_000, 10_000_000]\n",
    "# For each value of n, we will run it 100 times and record the average of the results:\n",
    "ensemble_size = 100\n",
    "# This will hold the results for each n:\n",
    "temp = np.zeros(shape=(ensemble_size, 2))\n",
    "# This is the data for the dataframe, it holds the average results for each n:\n",
    "data2 = np.zeros(shape=(len(ns), 2))\n",
    "for i in range(len(ns)):\n",
    "    for j in range(ensemble_size):\n",
    "        temp[j,0] = sphere_MonteCarlo(-1, 1, 1000000, f=f, g=rho, G=M)[0] / sphere_MonteCarlo(-1, 1, 1000000, f=h, g=rho, G=M)[0]\n",
    "        temp[j,1] = sphere_MonteCarlo(-1, 1, 1000000, f=f, g=rho, G=M)[1] / sphere_MonteCarlo(-1, 1, 1000000, f=h, g=rho, G=M)[1]\n",
    "    data2[i,:] = np.mean(temp, axis=0)"
   ]
  },
  {
   "cell_type": "code",
   "execution_count": 11,
   "metadata": {},
   "outputs": [
    {
     "data": {
      "text/html": [
       "<div>\n",
       "<style scoped>\n",
       "    .dataframe tbody tr th:only-of-type {\n",
       "        vertical-align: middle;\n",
       "    }\n",
       "\n",
       "    .dataframe tbody tr th {\n",
       "        vertical-align: top;\n",
       "    }\n",
       "\n",
       "    .dataframe thead th {\n",
       "        text-align: right;\n",
       "    }\n",
       "</style>\n",
       "<table border=\"1\" class=\"dataframe\">\n",
       "  <thead>\n",
       "    <tr style=\"text-align: right;\">\n",
       "      <th></th>\n",
       "      <th>INTEGRAL ANSWER</th>\n",
       "      <th>STATISTICAL ERROR</th>\n",
       "    </tr>\n",
       "    <tr>\n",
       "      <th>n</th>\n",
       "      <th></th>\n",
       "      <th></th>\n",
       "    </tr>\n",
       "  </thead>\n",
       "  <tbody>\n",
       "    <tr>\n",
       "      <th>100</th>\n",
       "      <td>-0.068</td>\n",
       "      <td>0.926</td>\n",
       "    </tr>\n",
       "    <tr>\n",
       "      <th>200</th>\n",
       "      <td>-0.068</td>\n",
       "      <td>0.926</td>\n",
       "    </tr>\n",
       "    <tr>\n",
       "      <th>500</th>\n",
       "      <td>-0.068</td>\n",
       "      <td>0.926</td>\n",
       "    </tr>\n",
       "    <tr>\n",
       "      <th>800</th>\n",
       "      <td>-0.068</td>\n",
       "      <td>0.926</td>\n",
       "    </tr>\n",
       "    <tr>\n",
       "      <th>1000</th>\n",
       "      <td>-0.068</td>\n",
       "      <td>0.926</td>\n",
       "    </tr>\n",
       "    <tr>\n",
       "      <th>10000</th>\n",
       "      <td>-0.068</td>\n",
       "      <td>0.926</td>\n",
       "    </tr>\n",
       "    <tr>\n",
       "      <th>100000</th>\n",
       "      <td>-0.068</td>\n",
       "      <td>0.926</td>\n",
       "    </tr>\n",
       "    <tr>\n",
       "      <th>1000000</th>\n",
       "      <td>-0.068</td>\n",
       "      <td>0.926</td>\n",
       "    </tr>\n",
       "    <tr>\n",
       "      <th>10000000</th>\n",
       "      <td>-0.069</td>\n",
       "      <td>0.926</td>\n",
       "    </tr>\n",
       "  </tbody>\n",
       "</table>\n",
       "</div>"
      ],
      "text/plain": [
       "          INTEGRAL ANSWER  STATISTICAL ERROR\n",
       "n                                           \n",
       "100                -0.068              0.926\n",
       "200                -0.068              0.926\n",
       "500                -0.068              0.926\n",
       "800                -0.068              0.926\n",
       "1000               -0.068              0.926\n",
       "10000              -0.068              0.926\n",
       "100000             -0.068              0.926\n",
       "1000000            -0.068              0.926\n",
       "10000000           -0.069              0.926"
      ]
     },
     "execution_count": 11,
     "metadata": {},
     "output_type": "execute_result"
    }
   ],
   "source": [
    "# Columns for the dataframe:\n",
    "columns = [\"INTEGRAL ANSWER\", \"STATISTICAL ERROR\"]\n",
    "df = pd.DataFrame(data=np.round(data2, decimals=3),\n",
    "                  index=ns,\n",
    "                  columns=columns)\n",
    "df.index.name = \"n\"\n",
    "df"
   ]
  }
 ],
 "metadata": {
  "kernelspec": {
   "display_name": "qenv",
   "language": "python",
   "name": "python3"
  },
  "language_info": {
   "codemirror_mode": {
    "name": "ipython",
    "version": 3
   },
   "file_extension": ".py",
   "mimetype": "text/x-python",
   "name": "python",
   "nbconvert_exporter": "python",
   "pygments_lexer": "ipython3",
   "version": "3.8.10"
  },
  "orig_nbformat": 4,
  "vscode": {
   "interpreter": {
    "hash": "7195e1b20121b61309eb2a04866b6270d7065ccdb9901395d624c5d1893326fb"
   }
  }
 },
 "nbformat": 4,
 "nbformat_minor": 2
}
